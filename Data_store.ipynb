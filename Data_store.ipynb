{
 "cells": [
  {
   "cell_type": "code",
   "execution_count": 1,
   "metadata": {
    "collapsed": true
   },
   "outputs": [],
   "source": [
    "import numpy as np\n",
    "import scipy.io as sio\n",
    "import numpy as np\n",
    "import h5py\n",
    "    \n",
    "def LagGen(x,b,a):\n",
    "    l, m = x.shape\n",
    "    x0 = np.pad(x, ((b, a), (0,0)), 'edge')\n",
    "    o = np.zeros((l,b+a+1,m))\n",
    "    for i in range(l):\n",
    "        for j in range(m):\n",
    "            o[i,:,j] = x0[i:i+a+b+1,j]\n",
    "    return o"
   ]
  },
  {
   "cell_type": "code",
   "execution_count": 3,
   "metadata": {},
   "outputs": [
    {
     "name": "stdout",
     "output_type": "stream",
     "text": [
      "Generating 3D lags for HighGamma...\n",
      "Generating 3D lags for LFP...\n",
      "Input shape_4d: (4008, 31, 61, 2)\n",
      "Output shape (f0): (4008, 1)\n",
      "Output shape (vuv): (4008, 1)\n",
      "Output shape (aperiodicity): (4008, 1)\n",
      "Output shape (spectrogram): (4008, 513)\n",
      "Saving data...\n",
      "Saving done.\n"
     ]
    }
   ],
   "source": [
    "##HG+LFP\n",
    "b=0\n",
    "a=30\n",
    "\n",
    "#importing neural data\n",
    "mat = sio.loadmat('LIJ123_pitch_Ce_Test.mat')\n",
    "neural_data_HG = np.transpose(mat['neural_data_HG'])\n",
    "neural_data_LFP = np.transpose(mat['neural_data_LFP'])\n",
    "\n",
    "#importing vocoder parameters\n",
    "f0 = np.log10(np.transpose(mat['f0'])+1)\n",
    "vuv = np.transpose(mat['vuv'])\n",
    "aperiodicity = np.log10(-np.transpose(mat['aperiodicity'])+1)\n",
    "spectrogram = np.transpose(mat['spectrogram'])\n",
    "spectrogram[spectrogram>1] = 1\n",
    "spectrogram = np.power(spectrogram,.1) #compressing\n",
    "#spectrogram = np.log10(spectrogram+1) #study this later\n",
    "\n",
    "#performing lag+stacking neural data\n",
    "print('Generating 3D lags for HighGamma...')\n",
    "shft_neural_3d_HG = LagGen(neural_data_HG,b,a)\n",
    "shft_neural_3d_HG = shft_neural_3d_HG.astype('float32')\n",
    "print('Generating 3D lags for LFP...')\n",
    "shft_neural_3d_LFP = LagGen(neural_data_LFP,b,a)\n",
    "shft_neural_3d_LFP = shft_neural_3d_LFP.astype('float32')\n",
    "shp = shft_neural_3d_HG.shape\n",
    "shft_neural_4d = np.zeros((shp[0],shp[1],shp[2],2),dtype='float32')\n",
    "shft_neural_4d[:,:,:,0] = shft_neural_3d_HG\n",
    "shft_neural_4d[:,:,:,1] = shft_neural_3d_LFP\n",
    "\n",
    "print('Input shape_4d:', shft_neural_4d.shape)\n",
    "print('Output shape (f0):', f0.shape)\n",
    "print('Output shape (vuv):', vuv.shape)\n",
    "print('Output shape (aperiodicity):', aperiodicity.shape)\n",
    "print('Output shape (spectrogram):', spectrogram.shape)\n",
    "\n",
    "print('Saving data...')\n",
    "#sio.savemat('Data_Decoding_128fBins_LIJ120_all_elecs_Train.mat', mdict={'features': features, 'shft_neural_4d': shft_neural_4d})\n",
    "h5f = h5py.File('Data_Decoding_LIJ123_HGaLFP_pitch_Test.h5','w')\n",
    "h5f.create_dataset('f0', data=f0)\n",
    "h5f.create_dataset('vuv', data=vuv)\n",
    "h5f.create_dataset('aperiodicity', data=aperiodicity)\n",
    "h5f.create_dataset('spectrogram', data=spectrogram)\n",
    "h5f.create_dataset('shft_neural_4d', data=shft_neural_4d)\n",
    "h5f.close()\n",
    "print('Saving done.')"
   ]
  },
  {
   "cell_type": "code",
   "execution_count": null,
   "metadata": {
    "collapsed": true
   },
   "outputs": [],
   "source": []
  }
 ],
 "metadata": {
  "anaconda-cloud": {},
  "kernelspec": {
   "display_name": "Python 2",
   "language": "python",
   "name": "python2"
  },
  "language_info": {
   "codemirror_mode": {
    "name": "ipython",
    "version": 2
   },
   "file_extension": ".py",
   "mimetype": "text/x-python",
   "name": "python",
   "nbconvert_exporter": "python",
   "pygments_lexer": "ipython2",
   "version": "2.7.14"
  }
 },
 "nbformat": 4,
 "nbformat_minor": 2
}
